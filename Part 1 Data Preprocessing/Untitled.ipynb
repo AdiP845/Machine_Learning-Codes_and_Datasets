{
 "cells": [
  {
   "cell_type": "code",
   "execution_count": 1,
   "id": "6c09ef9a",
   "metadata": {},
   "outputs": [
    {
     "name": "stdout",
     "output_type": "stream",
     "text": [
      "Original labels: ['apple', 'banana', 'apple', 'orange', 'banana']\n",
      "Encoded labels: [0 1 0 2 1]\n",
      "Decoded labels: ['apple' 'banana' 'apple' 'orange' 'banana']\n"
     ]
    }
   ],
   "source": [
    "from sklearn.preprocessing import LabelEncoder\n",
    "\n",
    "# Example array of categorical labels\n",
    "labels = ['apple', 'banana', 'apple', 'orange', 'banana']\n",
    "\n",
    "# Create a LabelEncoder instance\n",
    "label_encoder = LabelEncoder()\n",
    "\n",
    "# Fit the LabelEncoder on the labels and transform them to numerical values\n",
    "encoded_labels = label_encoder.fit_transform(labels)\n",
    "\n",
    "print(\"Original labels:\", labels)\n",
    "print(\"Encoded labels:\", encoded_labels)\n",
    "\n",
    "# Inverse transform to get the original labels back\n",
    "decoded_labels = label_encoder.inverse_transform(encoded_labels)\n",
    "print(\"Decoded labels:\", decoded_labels)\n"
   ]
  },
  {
   "cell_type": "code",
   "execution_count": null,
   "id": "be1510f6",
   "metadata": {},
   "outputs": [],
   "source": []
  }
 ],
 "metadata": {
  "kernelspec": {
   "display_name": "Python 3 (ipykernel)",
   "language": "python",
   "name": "python3"
  },
  "language_info": {
   "codemirror_mode": {
    "name": "ipython",
    "version": 3
   },
   "file_extension": ".py",
   "mimetype": "text/x-python",
   "name": "python",
   "nbconvert_exporter": "python",
   "pygments_lexer": "ipython3",
   "version": "3.11.3"
  }
 },
 "nbformat": 4,
 "nbformat_minor": 5
}
